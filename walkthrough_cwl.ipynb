{
 "cells": [
  {
   "cell_type": "markdown",
   "metadata": {
    "deletable": true,
    "editable": true
   },
   "source": [
    "# CWL steps walkthrough"
   ]
  },
  {
   "cell_type": "markdown",
   "metadata": {
    "deletable": true,
    "editable": true
   },
   "source": [
    "This notebook describes the processing done in the CWL pipeliene for a single block (1.2 s observation here) in a 2 min long observation. We are aiming to conduct much longer observations, 10 min at least.\n",
    "\n",
    "rfipip is a custom package based on sigpyproc (source available https://github.com/pinsleepe/rfipip) and is pip installable. "
   ]
  },
  {
   "cell_type": "code",
   "execution_count": 48,
   "metadata": {
    "collapsed": false,
    "deletable": true,
    "editable": true
   },
   "outputs": [],
   "source": [
    "from rfipip import rfiObs, rfiDatabase\n",
    "import numpy as np\n",
    "from scipy import ndimage\n",
    "from skimage import filters\n",
    "from scipy.ndimage import measurements\n",
    "import h5py\n",
    "import matplotlib.pyplot as plt\n",
    "%matplotlib inline  "
   ]
  },
  {
   "cell_type": "markdown",
   "metadata": {
    "deletable": true,
    "editable": true
   },
   "source": [
    "South Celectial Pole (scp) observation is available on katai."
   ]
  },
  {
   "cell_type": "code",
   "execution_count": 2,
   "metadata": {
    "collapsed": true,
    "deletable": true,
    "editable": true
   },
   "outputs": [],
   "source": [
    "fil_path = '/data/rfi_data/scp.fil'"
   ]
  },
  {
   "cell_type": "code",
   "execution_count": 3,
   "metadata": {
    "collapsed": false,
    "deletable": true,
    "editable": true
   },
   "outputs": [],
   "source": [
    "fil_rfiObs = rfiObs.RfiObservation(path=fil_path,\n",
    "                                   fil_file=True)\n",
    "header = fil_rfiObs.file.header\n",
    "tobs = header.tobs\n",
    "nchans = header.nchans"
   ]
  },
  {
   "cell_type": "code",
   "execution_count": 4,
   "metadata": {
    "collapsed": false,
    "deletable": true,
    "editable": true
   },
   "outputs": [
    {
     "name": "stdout",
     "output_type": "stream",
     "text": [
      "120.21859529\n"
     ]
    }
   ],
   "source": [
    "print tobs"
   ]
  },
  {
   "cell_type": "markdown",
   "metadata": {
    "deletable": true,
    "editable": true
   },
   "source": [
    "The observation is divided into 100 blocks, but this bit will need some logic in the pipeline implementation."
   ]
  },
  {
   "cell_type": "code",
   "execution_count": 5,
   "metadata": {
    "collapsed": true,
    "deletable": true,
    "editable": true
   },
   "outputs": [],
   "source": [
    "vec_length = 100\n",
    "start_vector = np.linspace(0, \n",
    "                           tobs, \n",
    "                           num=vec_length, \n",
    "                           endpoint=False, \n",
    "                           retstep=True)"
   ]
  },
  {
   "cell_type": "code",
   "execution_count": 6,
   "metadata": {
    "collapsed": false,
    "deletable": true,
    "editable": true
   },
   "outputs": [
    {
     "name": "stdout",
     "output_type": "stream",
     "text": [
      "1.2021859529\n"
     ]
    }
   ],
   "source": [
    "duration = start_vector[1]\n",
    "print duration"
   ]
  },
  {
   "cell_type": "markdown",
   "metadata": {
    "deletable": true,
    "editable": true
   },
   "source": [
    "Lets view only block 10th"
   ]
  },
  {
   "cell_type": "code",
   "execution_count": 53,
   "metadata": {
    "collapsed": true,
    "deletable": true,
    "editable": true
   },
   "outputs": [],
   "source": [
    "sv = 10\n",
    "start_time = start_vector[0][sv]\n",
    "block, num_sam = fil_rfiObs.read_time_freq(start_time, \n",
    "                                           duration)"
   ]
  },
  {
   "cell_type": "markdown",
   "metadata": {
    "deletable": true,
    "editable": true
   },
   "source": [
    "t_vector stores time vector of the block in seconds. This has to be translated into MJD."
   ]
  },
  {
   "cell_type": "code",
   "execution_count": 8,
   "metadata": {
    "collapsed": true,
    "deletable": true,
    "editable": true
   },
   "outputs": [],
   "source": [
    "t_vector = fil_rfiObs.time"
   ]
  },
  {
   "cell_type": "markdown",
   "metadata": {
    "deletable": true,
    "editable": true
   },
   "source": [
    "Now we are using one of the threscholding algorithms available from scipy. I'm using Yen as it looked best for this type of observation. This has to be automated for the pipeline."
   ]
  },
  {
   "cell_type": "code",
   "execution_count": 9,
   "metadata": {
    "collapsed": true,
    "deletable": true,
    "editable": true
   },
   "outputs": [],
   "source": [
    "val = filters.threshold_yen(block)\n",
    "mask = block < val"
   ]
  },
  {
   "cell_type": "markdown",
   "metadata": {
    "deletable": true,
    "editable": true
   },
   "source": [
    "Threschold value changes for every block. We have to first read every block and find threschold. Find median and then open the filterbank file again to apply it. At the moment we don't use median threshold for speed reasons."
   ]
  },
  {
   "cell_type": "code",
   "execution_count": 10,
   "metadata": {
    "collapsed": false,
    "deletable": true,
    "editable": true
   },
   "outputs": [
    {
     "name": "stdout",
     "output_type": "stream",
     "text": [
      "(4096, 7851)\n"
     ]
    }
   ],
   "source": [
    "print mask.shape"
   ]
  },
  {
   "cell_type": "code",
   "execution_count": 11,
   "metadata": {
    "collapsed": false,
    "deletable": true,
    "editable": true
   },
   "outputs": [
    {
     "name": "stdout",
     "output_type": "stream",
     "text": [
      "3672.96813965\n"
     ]
    }
   ],
   "source": [
    "print val"
   ]
  },
  {
   "cell_type": "markdown",
   "metadata": {
    "deletable": true,
    "editable": true
   },
   "source": [
    "Plot mask."
   ]
  },
  {
   "cell_type": "markdown",
   "metadata": {
    "deletable": true,
    "editable": true
   },
   "source": [
    "Zoom in and decide what belongs to a single culprit."
   ]
  },
  {
   "cell_type": "markdown",
   "metadata": {
    "deletable": true,
    "editable": true
   },
   "source": [
    "I will explain the next 2 steps on a pulsar example in a different notebook. It essentially groups blobs depending on the mask."
   ]
  },
  {
   "cell_type": "code",
   "execution_count": 12,
   "metadata": {
    "collapsed": true,
    "deletable": true,
    "editable": true
   },
   "outputs": [],
   "source": [
    "# op_struck = np.ones((5, 5))\n",
    "op_struck = np.ones((2, 2))\n",
    "open_img = ndimage.binary_opening(mask,\n",
    "                                  structure=op_struck)"
   ]
  },
  {
   "cell_type": "code",
   "execution_count": 13,
   "metadata": {
    "collapsed": true,
    "deletable": true,
    "editable": true
   },
   "outputs": [],
   "source": [
    "cl_struck = np.ones((1, 1))\n",
    "close_img = ndimage.binary_closing(open_img,\n",
    "                                   structure=cl_struck)"
   ]
  },
  {
   "cell_type": "markdown",
   "metadata": {
    "deletable": true,
    "editable": true
   },
   "source": [
    "Now we label the groups."
   ]
  },
  {
   "cell_type": "code",
   "execution_count": 14,
   "metadata": {
    "collapsed": false,
    "deletable": true,
    "editable": true
   },
   "outputs": [
    {
     "name": "stdout",
     "output_type": "stream",
     "text": [
      "787\n"
     ]
    }
   ],
   "source": [
    "close_img_inv = np.invert(close_img)\n",
    "labeled_array, num_features = measurements.label(close_img_inv)\n",
    "print num_features"
   ]
  },
  {
   "cell_type": "markdown",
   "metadata": {
    "deletable": true,
    "editable": true
   },
   "source": [
    "We found 787 events."
   ]
  },
  {
   "cell_type": "code",
   "execution_count": 54,
   "metadata": {
    "collapsed": true
   },
   "outputs": [],
   "source": [
    "start_sample = long(start_time / header.tsamp)"
   ]
  },
  {
   "cell_type": "markdown",
   "metadata": {},
   "source": [
    "In filterbank channel 0 is the highest frequency"
   ]
  },
  {
   "cell_type": "code",
   "execution_count": 63,
   "metadata": {
    "collapsed": false
   },
   "outputs": [
    {
     "data": {
      "text/plain": [
       "<matplotlib.text.Text at 0x7fa2ba7663d0>"
      ]
     },
     "execution_count": 63,
     "metadata": {},
     "output_type": "execute_result"
    },
    {
     "data": {
      "image/png": "[encoded data removed]",
      "text/plain": [
       "<matplotlib.figure.Figure at 0x7fa2ba784790>"
      ]
     },
     "metadata": {},
     "output_type": "display_data"
    }
   ],
   "source": [
    "plt.figure(figsize=(10, 10))\n",
    "ax = plt.subplot(1, 1, 1)\n",
    "# plt.imshow(mask,\n",
    "#            extent=[start_sample * header.tsamp,\n",
    "#                    (start_sample + np.shape(block)[1]) * header.tsamp, \n",
    "#                    fil_rfiObs.freqs[0], fil_rfiObs.freqs[-1]], \n",
    "#           cmap=plt.cm.gray)\n",
    "plt.contour(close_img, \n",
    "           [0.5], \n",
    "            extent=[start_sample * header.tsamp,\n",
    "                   (start_sample + np.shape(block)[1]) * header.tsamp, \n",
    "                   fil_rfiObs.freqs[0], fil_rfiObs.freqs[-1]],\n",
    "            origin='lower',\n",
    "           linewidths=2, \n",
    "           colors='r')\n",
    "ax.set_aspect(\"auto\")\n",
    "ax.set_xlabel('observation time (secs)')\n",
    "ax.set_ylabel('freq channel (MHz)')"
   ]
  },
  {
   "cell_type": "code",
   "execution_count": 65,
   "metadata": {
    "collapsed": false
   },
   "outputs": [
    {
     "data": {
      "text/plain": [
       "<matplotlib.text.Text at 0x7fa2ba5e0b50>"
      ]
     },
     "execution_count": 65,
     "metadata": {},
     "output_type": "execute_result"
    },
    {
     "data": {
      "image/png": "[encoded data removed]",
      "text/plain": [
       "<matplotlib.figure.Figure at 0x7fa2e95a92d0>"
      ]
     },
     "metadata": {},
     "output_type": "display_data"
    }
   ],
   "source": [
    "plt.figure(figsize=(10, 10))\n",
    "ax = plt.subplot(1, 1, 1)\n",
    "plt.imshow(mask[1070:1150,0:300], \n",
    "          cmap=plt.cm.gray)\n",
    "ax.set_aspect(\"auto\")\n",
    "ax.set_xlabel('observation time (secs)')\n",
    "ax.set_ylabel('freq channel')"
   ]
  },
  {
   "cell_type": "markdown",
   "metadata": {
    "deletable": true,
    "editable": true
   },
   "source": [
    "Zoom in on the mask."
   ]
  },
  {
   "cell_type": "code",
   "execution_count": 66,
   "metadata": {
    "collapsed": false,
    "deletable": true,
    "editable": true
   },
   "outputs": [
    {
     "data": {
      "text/plain": [
       "<matplotlib.text.Text at 0x7fa2ba60c790>"
      ]
     },
     "execution_count": 66,
     "metadata": {},
     "output_type": "execute_result"
    },
    {
     "data": {
      "image/png": "[encoded data removed]",
      "text/plain": [
       "<matplotlib.figure.Figure at 0x7fa2ba4d7c50>"
      ]
     },
     "metadata": {},
     "output_type": "display_data"
    }
   ],
   "source": [
    "plt.figure(figsize=(10, 10))\n",
    "ax = plt.subplot(1, 1, 1)\n",
    "plt.imshow(mask, \n",
    "          cmap=plt.cm.gray)\n",
    "plt.contour(close_img, \n",
    "           [0.5], \n",
    "            origin='lower',\n",
    "           linewidths=2, \n",
    "           colors='r')\n",
    "ax.set_xlim(0, 1000)\n",
    "ax.set_ylim(1000, 1500)\n",
    "ax.set_aspect(\"auto\")\n",
    "ax.set_xlabel('observation time (secs)')\n",
    "ax.set_ylabel('freq channel')"
   ]
  },
  {
   "cell_type": "markdown",
   "metadata": {
    "deletable": true,
    "editable": true
   },
   "source": [
    "Zoom in. Should those be single events?"
   ]
  },
  {
   "cell_type": "code",
   "execution_count": 67,
   "metadata": {
    "collapsed": false,
    "deletable": true,
    "editable": true
   },
   "outputs": [
    {
     "data": {
      "text/plain": [
       "<matplotlib.text.Text at 0x7fa2ba38a590>"
      ]
     },
     "execution_count": 67,
     "metadata": {},
     "output_type": "execute_result"
    },
    {
     "data": {
      "image/png": "[encoded data removed]",
      "text/plain": [
       "<matplotlib.figure.Figure at 0x7fa2ba3eca90>"
      ]
     },
     "metadata": {},
     "output_type": "display_data"
    }
   ],
   "source": [
    "plt.figure(figsize=(10, 10))\n",
    "ax = plt.subplot(1, 1, 1)\n",
    "plt.imshow(mask, \n",
    "          cmap=plt.cm.gray)\n",
    "plt.contour(close_img, \n",
    "           [0.5], \n",
    "            origin='lower',\n",
    "           linewidths=2, \n",
    "           colors='r')\n",
    "ax.set_xlim(0, 200)\n",
    "ax.set_ylim(1090, 1150)\n",
    "ax.set_aspect(\"auto\")\n",
    "ax.set_xlabel('observation time (secs)')\n",
    "ax.set_ylabel('freq channel')"
   ]
  },
  {
   "cell_type": "markdown",
   "metadata": {
    "deletable": true,
    "editable": true
   },
   "source": [
    "Zoom in."
   ]
  },
  {
   "cell_type": "code",
   "execution_count": 68,
   "metadata": {
    "collapsed": false,
    "deletable": true,
    "editable": true
   },
   "outputs": [
    {
     "data": {
      "text/plain": [
       "<matplotlib.text.Text at 0x7fa2ba2a85d0>"
      ]
     },
     "execution_count": 68,
     "metadata": {},
     "output_type": "execute_result"
    },
    {
     "data": {
      "image/png": "[encoded data removed]",
      "text/plain": [
       "<matplotlib.figure.Figure at 0x7fa2ba3afe90>"
      ]
     },
     "metadata": {},
     "output_type": "display_data"
    }
   ],
   "source": [
    "plt.figure(figsize=(10, 10))\n",
    "ax = plt.subplot(1, 1, 1)\n",
    "plt.imshow(mask, \n",
    "          cmap=plt.cm.gray)\n",
    "plt.contour(close_img, \n",
    "           [0.5], \n",
    "            origin='lower',\n",
    "           linewidths=2, \n",
    "           colors='r')\n",
    "ax.set_xlim(75, 100)\n",
    "ax.set_ylim(1090, 1150)\n",
    "ax.set_aspect(\"auto\")\n",
    "ax.set_xlabel('observation time (secs)')\n",
    "ax.set_ylabel('freq channel')"
   ]
  },
  {
   "cell_type": "markdown",
   "metadata": {
    "deletable": true,
    "editable": true
   },
   "source": [
    "Zoom in."
   ]
  },
  {
   "cell_type": "code",
   "execution_count": 69,
   "metadata": {
    "collapsed": false,
    "deletable": true,
    "editable": true
   },
   "outputs": [
    {
     "data": {
      "text/plain": [
       "<matplotlib.text.Text at 0x7fa2ba29a2d0>"
      ]
     },
     "execution_count": 69,
     "metadata": {},
     "output_type": "execute_result"
    },
    {
     "data": {
      "image/png": "[encoded data removed]",
      "text/plain": [
       "<matplotlib.figure.Figure at 0x7fa2ba193790>"
      ]
     },
     "metadata": {},
     "output_type": "display_data"
    }
   ],
   "source": [
    "plt.figure(figsize=(10, 10))\n",
    "ax = plt.subplot(1, 1, 1)\n",
    "plt.imshow(mask, \n",
    "          cmap=plt.cm.gray)\n",
    "plt.contour(close_img, \n",
    "           [0.5], \n",
    "            origin='lower',\n",
    "           linewidths=2, \n",
    "           colors='r')\n",
    "ax.set_xlim(25, 50)\n",
    "ax.set_ylim(1090, 1150)\n",
    "ax.set_aspect(\"auto\")\n",
    "ax.set_xlabel('observation time (secs)')\n",
    "ax.set_ylabel('freq channel')"
   ]
  },
  {
   "cell_type": "markdown",
   "metadata": {
    "deletable": true,
    "editable": true
   },
   "source": [
    "Different region zoomed in."
   ]
  },
  {
   "cell_type": "code",
   "execution_count": 70,
   "metadata": {
    "collapsed": false,
    "deletable": true,
    "editable": true
   },
   "outputs": [
    {
     "data": {
      "text/plain": [
       "<matplotlib.text.Text at 0x7fa2ba1a6790>"
      ]
     },
     "execution_count": 70,
     "metadata": {},
     "output_type": "execute_result"
    },
    {
     "data": {
      "image/png": "[encoded data removed]",
      "text/plain": [
       "<matplotlib.figure.Figure at 0x7fa2ba0ac390>"
      ]
     },
     "metadata": {},
     "output_type": "display_data"
    }
   ],
   "source": [
    "plt.figure(figsize=(10, 10))\n",
    "ax = plt.subplot(1, 1, 1)\n",
    "plt.imshow(mask, \n",
    "          cmap=plt.cm.gray)\n",
    "plt.contour(close_img, \n",
    "           [0.5], \n",
    "            origin='lower',\n",
    "           linewidths=2, \n",
    "           colors='r')\n",
    "ax.set_xlim(0, 1000)\n",
    "ax.set_ylim(300, 600)\n",
    "ax.set_aspect(\"auto\")\n",
    "ax.set_xlabel('observation time (secs)')\n",
    "ax.set_ylabel('freq channel')"
   ]
  },
  {
   "cell_type": "markdown",
   "metadata": {
    "deletable": true,
    "editable": true
   },
   "source": [
    "Zoom in."
   ]
  },
  {
   "cell_type": "code",
   "execution_count": 71,
   "metadata": {
    "collapsed": false,
    "deletable": true,
    "editable": true
   },
   "outputs": [
    {
     "data": {
      "text/plain": [
       "<matplotlib.text.Text at 0x7fa2ba0b7690>"
      ]
     },
     "execution_count": 71,
     "metadata": {},
     "output_type": "execute_result"
    },
    {
     "data": {
      "image/png": "[encoded data removed]",
      "text/plain": [
       "<matplotlib.figure.Figure at 0x7fa2ba0bfb90>"
      ]
     },
     "metadata": {},
     "output_type": "display_data"
    }
   ],
   "source": [
    "plt.figure(figsize=(10, 10))\n",
    "ax = plt.subplot(1, 1, 1)\n",
    "plt.imshow(mask, \n",
    "          cmap=plt.cm.gray)\n",
    "plt.contour(close_img, \n",
    "           [0.5], \n",
    "            origin='lower',\n",
    "           linewidths=2, \n",
    "           colors='r')\n",
    "ax.set_xlim(0, 500)\n",
    "ax.set_ylim(400, 500)\n",
    "ax.set_aspect(\"auto\")\n",
    "ax.set_xlabel('observation time (secs)')\n",
    "ax.set_ylabel('freq channel')"
   ]
  },
  {
   "cell_type": "markdown",
   "metadata": {
    "deletable": true,
    "editable": true
   },
   "source": [
    "Now we save each event with its time and channel occupacy. "
   ]
  },
  {
   "cell_type": "code",
   "execution_count": 23,
   "metadata": {
    "collapsed": true,
    "deletable": true,
    "editable": true
   },
   "outputs": [],
   "source": [
    "feature_range = np.linspace(1, num_features, num=num_features)"
   ]
  },
  {
   "cell_type": "code",
   "execution_count": 24,
   "metadata": {
    "collapsed": false,
    "deletable": true,
    "editable": true
   },
   "outputs": [
    {
     "name": "stdout",
     "output_type": "stream",
     "text": [
      "(2,)\n",
      "(2,)\n",
      "(1230, 1231)\n",
      "(1399, 1399)\n"
     ]
    }
   ],
   "source": [
    "# x = freq\n",
    "# y = time\n",
    "x, y = np.where(labeled_array == 701)\n",
    "print(x.shape)\n",
    "print(y.shape)\n",
    "print(x.min(), x.max())\n",
    "print(y.min(), y.max())"
   ]
  },
  {
   "cell_type": "code",
   "execution_count": 25,
   "metadata": {
    "collapsed": false,
    "deletable": true,
    "editable": true
   },
   "outputs": [],
   "source": [
    "tf_extent = np.empty([num_features, 5], \n",
    "                     dtype='int')\n",
    "for ev in feature_range:\n",
    "    x, y = np.where(labeled_array == ev)\n",
    "    tf_e = [ev, \n",
    "            x[0], \n",
    "            x.max()-x[0], \n",
    "            y[0], \n",
    "            y.max()-y[0]]\n",
    "    tf_extent[int(ev - 1), :] = tf_e"
   ]
  },
  {
   "cell_type": "markdown",
   "metadata": {
    "deletable": true,
    "editable": true
   },
   "source": [
    "If array[2] or array[4] == 0 there was a single sample"
   ]
  },
  {
   "cell_type": "code",
   "execution_count": 26,
   "metadata": {
    "collapsed": false,
    "deletable": true,
    "editable": true
   },
   "outputs": [
    {
     "data": {
      "text/plain": [
       "array([ 701, 1230,    1, 1399,    0])"
      ]
     },
     "execution_count": 26,
     "metadata": {},
     "output_type": "execute_result"
    }
   ],
   "source": [
    "tf_extent[700,:]"
   ]
  },
  {
   "cell_type": "code",
   "execution_count": 27,
   "metadata": {
    "collapsed": false,
    "deletable": true,
    "editable": true
   },
   "outputs": [
    {
     "data": {
      "text/plain": [
       "array([[  0,   0,   0,   0,   0,   0,   0,   0,   0,   0],\n",
       "       [  0,   0,   0,   0,   0,   0,   0,   0,   0,   0],\n",
       "       [  0,   0,   0,   0,   0,   0,   0,   0,   0,   0],\n",
       "       [  0,   0,   0,   0,   0,   0,   0,   0,   0,   0],\n",
       "       [  0,   0,   0,   0,   0,   0,   0,   0,   0,   0],\n",
       "       [  0,   0,   0,   0,   0,   0,   0,   0,   0,   0],\n",
       "       [  0,   0,   0,   0,   0,   0,   0,   0,   0,   0],\n",
       "       [  0,   0,   0,   0,   0,   0,   0,   0,   0,   0],\n",
       "       [  0,   0,   0,   0,   0,   0,   0,   0,   0,   0],\n",
       "       [  0,   0,   0,   0,   0,   0,   0,   0,   0,   0],\n",
       "       [  0,   0,   0,   0, 701,   0,   0,   0,   0,   0],\n",
       "       [  0,   0,   0,   0, 701,   0,   0,   0,   0,   0],\n",
       "       [  0,   0,   0,   0,   0,   0,   0,   0,   0,   0],\n",
       "       [  0,   0,   0,   0,   0,   0,   0,   0,   0,   0],\n",
       "       [  0,   0,   0,   0,   0,   0,   0,   0,   0,   0],\n",
       "       [  0,   0,   0,   0,   0,   0,   0,   0,   0,   0],\n",
       "       [  0,   0,   0,   0,   0,   0,   0,   0,   0,   0],\n",
       "       [  0,   0,   0,   0,   0,   0,   0,   0,   0,   0],\n",
       "       [  0,   0,   0,   0,   0,   0,   0,   0,   0,   0],\n",
       "       [  0,   0,   0,   0,   0,   0,   0,   0,   0,   0],\n",
       "       [  0,   0,   0,   0,   0,   0,   0,   0,   0,   0]], dtype=int32)"
      ]
     },
     "execution_count": 27,
     "metadata": {},
     "output_type": "execute_result"
    }
   ],
   "source": [
    "labeled_array[1220:1241, 1395:1405]"
   ]
  },
  {
   "cell_type": "code",
   "execution_count": 28,
   "metadata": {
    "collapsed": false,
    "deletable": true,
    "editable": true
   },
   "outputs": [
    {
     "data": {
      "text/plain": [
       "array([[   1,    0,    0,   37,    0],\n",
       "       [   2,    0,    0,   97,    0],\n",
       "       [   3,    0,    0,  227,    0],\n",
       "       ..., \n",
       "       [ 785, 3677,    0, 6386,   19],\n",
       "       [ 786, 3677,    0, 6408,   28],\n",
       "       [ 787, 3686,    0,  733,   46]])"
      ]
     },
     "execution_count": 28,
     "metadata": {},
     "output_type": "execute_result"
    }
   ],
   "source": [
    "tf_extent"
   ]
  },
  {
   "cell_type": "code",
   "execution_count": 29,
   "metadata": {
    "collapsed": false,
    "deletable": true,
    "editable": true
   },
   "outputs": [
    {
     "data": {
      "text/plain": [
       "529"
      ]
     },
     "execution_count": 29,
     "metadata": {},
     "output_type": "execute_result"
    }
   ],
   "source": [
    "# idx of largest freq\n",
    "tf_extent[:,2].argmax()"
   ]
  },
  {
   "cell_type": "code",
   "execution_count": 30,
   "metadata": {
    "collapsed": false,
    "deletable": true,
    "editable": true
   },
   "outputs": [
    {
     "data": {
      "text/plain": [
       "163"
      ]
     },
     "execution_count": 30,
     "metadata": {},
     "output_type": "execute_result"
    }
   ],
   "source": [
    "# idx of largest time\n",
    "tf_extent[:,4].argmax()"
   ]
  },
  {
   "cell_type": "code",
   "execution_count": 31,
   "metadata": {
    "collapsed": false,
    "deletable": true,
    "editable": true
   },
   "outputs": [
    {
     "data": {
      "text/plain": [
       "array([ 164,  418,    1,    0, 7850])"
      ]
     },
     "execution_count": 31,
     "metadata": {},
     "output_type": "execute_result"
    }
   ],
   "source": [
    "tf_extent[163,:]"
   ]
  },
  {
   "cell_type": "markdown",
   "metadata": {
    "deletable": true,
    "editable": true
   },
   "source": [
    "# Time occupancy"
   ]
  },
  {
   "cell_type": "code",
   "execution_count": 32,
   "metadata": {
    "collapsed": true,
    "deletable": true,
    "editable": true
   },
   "outputs": [],
   "source": [
    "from matplotlib.ticker import FuncFormatter"
   ]
  },
  {
   "cell_type": "code",
   "execution_count": 33,
   "metadata": {
    "collapsed": true,
    "deletable": true,
    "editable": true
   },
   "outputs": [],
   "source": [
    "norms = np.apply_along_axis(np.linalg.norm, 0, tf_extent[:,4])"
   ]
  },
  {
   "cell_type": "code",
   "execution_count": 34,
   "metadata": {
    "collapsed": false,
    "deletable": true,
    "editable": true
   },
   "outputs": [
    {
     "data": {
      "text/plain": [
       "<matplotlib.text.Text at 0x7fa2e9b98f50>"
      ]
     },
     "execution_count": 34,
     "metadata": {},
     "output_type": "execute_result"
    },
    {
     "data": {
      "image/png": "[encoded data removed]",
      "text/plain": [
       "<matplotlib.figure.Figure at 0x7fa2e9feb610>"
      ]
     },
     "metadata": {},
     "output_type": "display_data"
    }
   ],
   "source": [
    "plt.figure(figsize=(10, 10))\n",
    "ax = plt.subplot(1, 1, 1)\n",
    "plt.plot(tf_extent[:,4]/norms)\n",
    "ax.yaxis.set_major_formatter(FuncFormatter(lambda y, _: \n",
    "                                           '{:.1%}'.format(y))) \n",
    "ax.set_ylim(0,.01)\n",
    "plt.xlabel('event')\n",
    "plt.ylabel('time occupancy')"
   ]
  },
  {
   "cell_type": "markdown",
   "metadata": {
    "deletable": true,
    "editable": true
   },
   "source": [
    "# Freq channels occupancy"
   ]
  },
  {
   "cell_type": "code",
   "execution_count": 36,
   "metadata": {
    "collapsed": false,
    "deletable": true,
    "editable": true
   },
   "outputs": [
    {
     "data": {
      "text/plain": [
       "<matplotlib.text.Text at 0x7fa2e9ca88d0>"
      ]
     },
     "execution_count": 36,
     "metadata": {},
     "output_type": "execute_result"
    },
    {
     "data": {
      "image/png": "[encoded data removed]",
      "text/plain": [
       "<matplotlib.figure.Figure at 0x7fa2e9cb0350>"
      ]
     },
     "metadata": {},
     "output_type": "display_data"
    }
   ],
   "source": [
    "plt.figure(figsize=(10, 10))\n",
    "ax = plt.subplot(1, 1, 1)\n",
    "plt.plot(tf_extent[:,2])\n",
    "plt.xlabel('event')\n",
    "plt.ylabel('no. of freq channels')"
   ]
  },
  {
   "cell_type": "code",
   "execution_count": 46,
   "metadata": {
    "collapsed": false,
    "deletable": true,
    "editable": true
   },
   "outputs": [],
   "source": [
    "# plt.figure(figsize=(10, 10))\n",
    "# ax = plt.subplot(1, 1, 1)\n",
    "# plt.scatter(tf_extent[:,4], tf_extent[:,2])\n",
    "# ax.set_xlim(0,60)\n",
    "# plt.xlabel('event')\n",
    "# plt.ylabel('no. of freq channels')"
   ]
  },
  {
   "cell_type": "code",
   "execution_count": 45,
   "metadata": {
    "collapsed": false
   },
   "outputs": [],
   "source": [
    "# import pandas as pd\n",
    "# import seaborn as sns "
   ]
  },
  {
   "cell_type": "code",
   "execution_count": 47,
   "metadata": {
    "collapsed": true
   },
   "outputs": [],
   "source": [
    "# x, y = df['MEDV'], df['LSTAT']\n",
    "# plt.scatter(x, y, alpha=0.5)\n",
    "\n",
    "# # or via jointplot (with histograms aside):\n",
    "# sns.jointplot(x, y, kind='scatter', joint_kws={'alpha':0.5})"
   ]
  },
  {
   "cell_type": "code",
   "execution_count": 49,
   "metadata": {
    "collapsed": false
   },
   "outputs": [
    {
     "name": "stdout",
     "output_type": "stream",
     "text": [
      "['300.0-470.0', '1526.0-1554.0', '1467.0-1492.0', '2600.0-5180.0', '47.0-87.5', '580.0-1015.0', '900.0-1670.0', '1618.0-1626.0', '137.0-174.0', '100.0-104.0', '967.0-1164.0', '104.0-107.0', '470.0-876.0', '70.0-250.0', '876.0-967.0', '8000.0-14500.0', '2100.0-2300.0', '108.0-137.0', '174.0-300.0', '87.5-108.0', '1920.0-2100.0', '5180.0-5320.0', '9340.0-10060.0', '1164.0-1710.0', '1875.0-1920.0', '1750.0-3500.0', '1710.0-1875.0', '2300.0-2600.0', '5500.0-5700.0', '4500.0-5500.0']\n"
     ]
    }
   ],
   "source": [
    "# tf_e = [ev, x[0], x.max()-x[0], y[0], y.max()-y[0]]\n",
    "\n",
    "csv_path = '/data/rfi_data/RFI Spectrum Database - Sky-I.csv'\n",
    "rfiDb = rfiDatabase.RfiDatabase()\n",
    "rfiDb.write_dict([csv_path])\n",
    "bands = rfiDb.dictionary.keys()\n",
    "print bands\n",
    "# TODO time occupancy"
   ]
  },
  {
   "cell_type": "code",
   "execution_count": 82,
   "metadata": {
    "collapsed": true
   },
   "outputs": [],
   "source": [
    "training_set = pd.DataFrame(columns=('event',\n",
    "                                     'c_freq',\n",
    "                                     'bw',\n",
    "                                     't_start', \n",
    "                                     'duration',\n",
    "                                     'culprit', \n",
    "                                     'band'))"
   ]
  },
  {
   "cell_type": "code",
   "execution_count": 83,
   "metadata": {
    "collapsed": false
   },
   "outputs": [
    {
     "name": "stdout",
     "output_type": "stream",
     "text": [
      "[  856.           856.20898438   856.41796875 ...,  1711.37304688\n",
      "  1711.58203125  1711.79101562]\n",
      "[ 12.02185953  12.02201267  12.02216582 ...,  13.22373919  13.22389234\n",
      "  13.22404548]\n"
     ]
    }
   ],
   "source": [
    "print fil_rfiObs.freqs\n",
    "print fil_rfiObs.time"
   ]
  },
  {
   "cell_type": "code",
   "execution_count": 84,
   "metadata": {
    "collapsed": false
   },
   "outputs": [],
   "source": [
    "pd_idx = 0\n",
    "t_df = fil_rfiObs.time[tf_extent[0][1]] - fil_rfiObs.time[tf_extent[0][1]]\n",
    "for ev in range(tf_extent.shape[0]):\n",
    "    # logic for centre freq\n",
    "    if tf_extent[ev][2] > 0:\n",
    "        temp_bw = tf_extent[ev][2]*header.foff\n",
    "        peak_freq = fil_rfiObs.freqs[tf_extent[ev][1]] + temp_bw/2.0\n",
    "    else:\n",
    "        peak_freq = fil_rfiObs.freqs[tf_extent[ev][1]]\n",
    "        temp_bw = header.foff\n",
    "    ev_f = peak_freq\n",
    "    temp_t = fil_rfiObs.time[tf_extent[ev][3]]\n",
    "    temp_dur = tf_extent[ev][4]*t_df\n",
    "    # find freq range\n",
    "    for key in bands:\n",
    "        top = float(key.split('-')[1])\n",
    "        bottom = float(key.split('-')[0])\n",
    "        band = rfiDb.dictionary[key]['band']\n",
    "        if bottom <= ev_f <= top:  # freq is in range\n",
    "            for av_f in rfiDb.dictionary[key]['frequencies'].keys():\n",
    "                if av_f == []:  # culprit unknown\n",
    "                    label = 0\n",
    "                    training_set.loc[pd_idx] = [tf_extent[ev][0], \n",
    "                                                peak_freq, \n",
    "                                                temp_bw, \n",
    "                                                temp_t, \n",
    "                                                temp_dur, \n",
    "                                                label, \n",
    "                                                band]\n",
    "#                     training_set.loc[pd_idx] = [ev_f, 0, label, band]\n",
    "                    pd_idx += 1\n",
    "                else:\n",
    "                    c_range = 0.00001 # MHz\n",
    "                    # floor it as we don't have that much resolution\n",
    "                    if (float(av_f) - c_range) <= ev_f <= (float(av_f) + c_range):  # known culprit\n",
    "                        label = 1\n",
    "                        training_set.loc[pd_idx] = [tf_extent[ev][0], \n",
    "                                                peak_freq, \n",
    "                                                temp_bw, \n",
    "                                                temp_t, \n",
    "                                                temp_dur, \n",
    "                                                label, \n",
    "                                                band]\n",
    "                        pd_idx += 1\n",
    "                    else: # culprit unknown\n",
    "                        label = 0\n",
    "                        training_set.loc[pd_idx] = [tf_extent[ev][0], \n",
    "                                                peak_freq, \n",
    "                                                temp_bw, \n",
    "                                                temp_t, \n",
    "                                                temp_dur, \n",
    "                                                label, \n",
    "                                                band]\n",
    "                        pd_idx += 1"
   ]
  },
  {
   "cell_type": "code",
   "execution_count": 85,
   "metadata": {
    "collapsed": false
   },
   "outputs": [
    {
     "data": {
      "text/html": [
       "<div>\n",
       "<table border=\"1\" class=\"dataframe\">\n",
       "  <thead>\n",
       "    <tr style=\"text-align: right;\">\n",
       "      <th></th>\n",
       "      <th>event</th>\n",
       "      <th>c_freq</th>\n",
       "      <th>bw</th>\n",
       "      <th>t_start</th>\n",
       "      <th>duration</th>\n",
       "      <th>culprit</th>\n",
       "      <th>band</th>\n",
       "    </tr>\n",
       "  </thead>\n",
       "  <tbody>\n",
       "  </tbody>\n",
       "</table>\n",
       "</div>"
      ],
      "text/plain": [
       "Empty DataFrame\n",
       "Columns: [event, c_freq, bw, t_start, duration, culprit, band]\n",
       "Index: []"
      ]
     },
     "execution_count": 85,
     "metadata": {},
     "output_type": "execute_result"
    }
   ],
   "source": [
    "training_set.loc[lambda df: df.culprit > 0, :]"
   ]
  },
  {
   "cell_type": "code",
   "execution_count": 86,
   "metadata": {
    "collapsed": false
   },
   "outputs": [
    {
     "data": {
      "text/html": [
       "<div>\n",
       "<table border=\"1\" class=\"dataframe\">\n",
       "  <thead>\n",
       "    <tr style=\"text-align: right;\">\n",
       "      <th></th>\n",
       "      <th>event</th>\n",
       "      <th>c_freq</th>\n",
       "      <th>bw</th>\n",
       "      <th>t_start</th>\n",
       "      <th>duration</th>\n",
       "      <th>culprit</th>\n",
       "      <th>band</th>\n",
       "    </tr>\n",
       "  </thead>\n",
       "  <tbody>\n",
       "    <tr>\n",
       "      <th>0</th>\n",
       "      <td>1.0</td>\n",
       "      <td>856.000000</td>\n",
       "      <td>0.208984</td>\n",
       "      <td>12.027526</td>\n",
       "      <td>0.0</td>\n",
       "      <td>0.0</td>\n",
       "      <td>10.0</td>\n",
       "    </tr>\n",
       "    <tr>\n",
       "      <th>1</th>\n",
       "      <td>1.0</td>\n",
       "      <td>856.000000</td>\n",
       "      <td>0.208984</td>\n",
       "      <td>12.027526</td>\n",
       "      <td>0.0</td>\n",
       "      <td>0.0</td>\n",
       "      <td>10.0</td>\n",
       "    </tr>\n",
       "    <tr>\n",
       "      <th>2</th>\n",
       "      <td>1.0</td>\n",
       "      <td>856.000000</td>\n",
       "      <td>0.208984</td>\n",
       "      <td>12.027526</td>\n",
       "      <td>0.0</td>\n",
       "      <td>0.0</td>\n",
       "      <td>10.0</td>\n",
       "    </tr>\n",
       "    <tr>\n",
       "      <th>3</th>\n",
       "      <td>1.0</td>\n",
       "      <td>856.000000</td>\n",
       "      <td>0.208984</td>\n",
       "      <td>12.027526</td>\n",
       "      <td>0.0</td>\n",
       "      <td>0.0</td>\n",
       "      <td>10.0</td>\n",
       "    </tr>\n",
       "    <tr>\n",
       "      <th>4</th>\n",
       "      <td>1.0</td>\n",
       "      <td>856.000000</td>\n",
       "      <td>0.208984</td>\n",
       "      <td>12.027526</td>\n",
       "      <td>0.0</td>\n",
       "      <td>0.0</td>\n",
       "      <td>10.0</td>\n",
       "    </tr>\n",
       "    <tr>\n",
       "      <th>5</th>\n",
       "      <td>1.0</td>\n",
       "      <td>856.000000</td>\n",
       "      <td>0.208984</td>\n",
       "      <td>12.027526</td>\n",
       "      <td>0.0</td>\n",
       "      <td>0.0</td>\n",
       "      <td>10.0</td>\n",
       "    </tr>\n",
       "    <tr>\n",
       "      <th>6</th>\n",
       "      <td>1.0</td>\n",
       "      <td>856.000000</td>\n",
       "      <td>0.208984</td>\n",
       "      <td>12.027526</td>\n",
       "      <td>0.0</td>\n",
       "      <td>0.0</td>\n",
       "      <td>10.0</td>\n",
       "    </tr>\n",
       "    <tr>\n",
       "      <th>7</th>\n",
       "      <td>1.0</td>\n",
       "      <td>856.000000</td>\n",
       "      <td>0.208984</td>\n",
       "      <td>12.027526</td>\n",
       "      <td>0.0</td>\n",
       "      <td>0.0</td>\n",
       "      <td>9.0</td>\n",
       "    </tr>\n",
       "    <tr>\n",
       "      <th>8</th>\n",
       "      <td>1.0</td>\n",
       "      <td>856.000000</td>\n",
       "      <td>0.208984</td>\n",
       "      <td>12.027526</td>\n",
       "      <td>0.0</td>\n",
       "      <td>0.0</td>\n",
       "      <td>9.0</td>\n",
       "    </tr>\n",
       "    <tr>\n",
       "      <th>9</th>\n",
       "      <td>1.0</td>\n",
       "      <td>856.000000</td>\n",
       "      <td>0.208984</td>\n",
       "      <td>12.027526</td>\n",
       "      <td>0.0</td>\n",
       "      <td>0.0</td>\n",
       "      <td>9.0</td>\n",
       "    </tr>\n",
       "    <tr>\n",
       "      <th>10</th>\n",
       "      <td>2.0</td>\n",
       "      <td>856.000000</td>\n",
       "      <td>0.208984</td>\n",
       "      <td>12.036715</td>\n",
       "      <td>0.0</td>\n",
       "      <td>0.0</td>\n",
       "      <td>10.0</td>\n",
       "    </tr>\n",
       "    <tr>\n",
       "      <th>11</th>\n",
       "      <td>2.0</td>\n",
       "      <td>856.000000</td>\n",
       "      <td>0.208984</td>\n",
       "      <td>12.036715</td>\n",
       "      <td>0.0</td>\n",
       "      <td>0.0</td>\n",
       "      <td>10.0</td>\n",
       "    </tr>\n",
       "    <tr>\n",
       "      <th>12</th>\n",
       "      <td>2.0</td>\n",
       "      <td>856.000000</td>\n",
       "      <td>0.208984</td>\n",
       "      <td>12.036715</td>\n",
       "      <td>0.0</td>\n",
       "      <td>0.0</td>\n",
       "      <td>10.0</td>\n",
       "    </tr>\n",
       "    <tr>\n",
       "      <th>13</th>\n",
       "      <td>2.0</td>\n",
       "      <td>856.000000</td>\n",
       "      <td>0.208984</td>\n",
       "      <td>12.036715</td>\n",
       "      <td>0.0</td>\n",
       "      <td>0.0</td>\n",
       "      <td>10.0</td>\n",
       "    </tr>\n",
       "    <tr>\n",
       "      <th>14</th>\n",
       "      <td>2.0</td>\n",
       "      <td>856.000000</td>\n",
       "      <td>0.208984</td>\n",
       "      <td>12.036715</td>\n",
       "      <td>0.0</td>\n",
       "      <td>0.0</td>\n",
       "      <td>10.0</td>\n",
       "    </tr>\n",
       "    <tr>\n",
       "      <th>15</th>\n",
       "      <td>2.0</td>\n",
       "      <td>856.000000</td>\n",
       "      <td>0.208984</td>\n",
       "      <td>12.036715</td>\n",
       "      <td>0.0</td>\n",
       "      <td>0.0</td>\n",
       "      <td>10.0</td>\n",
       "    </tr>\n",
       "    <tr>\n",
       "      <th>16</th>\n",
       "      <td>2.0</td>\n",
       "      <td>856.000000</td>\n",
       "      <td>0.208984</td>\n",
       "      <td>12.036715</td>\n",
       "      <td>0.0</td>\n",
       "      <td>0.0</td>\n",
       "      <td>10.0</td>\n",
       "    </tr>\n",
       "    <tr>\n",
       "      <th>17</th>\n",
       "      <td>2.0</td>\n",
       "      <td>856.000000</td>\n",
       "      <td>0.208984</td>\n",
       "      <td>12.036715</td>\n",
       "      <td>0.0</td>\n",
       "      <td>0.0</td>\n",
       "      <td>9.0</td>\n",
       "    </tr>\n",
       "    <tr>\n",
       "      <th>18</th>\n",
       "      <td>2.0</td>\n",
       "      <td>856.000000</td>\n",
       "      <td>0.208984</td>\n",
       "      <td>12.036715</td>\n",
       "      <td>0.0</td>\n",
       "      <td>0.0</td>\n",
       "      <td>9.0</td>\n",
       "    </tr>\n",
       "    <tr>\n",
       "      <th>19</th>\n",
       "      <td>2.0</td>\n",
       "      <td>856.000000</td>\n",
       "      <td>0.208984</td>\n",
       "      <td>12.036715</td>\n",
       "      <td>0.0</td>\n",
       "      <td>0.0</td>\n",
       "      <td>9.0</td>\n",
       "    </tr>\n",
       "    <tr>\n",
       "      <th>20</th>\n",
       "      <td>3.0</td>\n",
       "      <td>856.000000</td>\n",
       "      <td>0.208984</td>\n",
       "      <td>12.056623</td>\n",
       "      <td>0.0</td>\n",
       "      <td>0.0</td>\n",
       "      <td>10.0</td>\n",
       "    </tr>\n",
       "    <tr>\n",
       "      <th>21</th>\n",
       "      <td>3.0</td>\n",
       "      <td>856.000000</td>\n",
       "      <td>0.208984</td>\n",
       "      <td>12.056623</td>\n",
       "      <td>0.0</td>\n",
       "      <td>0.0</td>\n",
       "      <td>10.0</td>\n",
       "    </tr>\n",
       "    <tr>\n",
       "      <th>22</th>\n",
       "      <td>3.0</td>\n",
       "      <td>856.000000</td>\n",
       "      <td>0.208984</td>\n",
       "      <td>12.056623</td>\n",
       "      <td>0.0</td>\n",
       "      <td>0.0</td>\n",
       "      <td>10.0</td>\n",
       "    </tr>\n",
       "    <tr>\n",
       "      <th>23</th>\n",
       "      <td>3.0</td>\n",
       "      <td>856.000000</td>\n",
       "      <td>0.208984</td>\n",
       "      <td>12.056623</td>\n",
       "      <td>0.0</td>\n",
       "      <td>0.0</td>\n",
       "      <td>10.0</td>\n",
       "    </tr>\n",
       "    <tr>\n",
       "      <th>24</th>\n",
       "      <td>3.0</td>\n",
       "      <td>856.000000</td>\n",
       "      <td>0.208984</td>\n",
       "      <td>12.056623</td>\n",
       "      <td>0.0</td>\n",
       "      <td>0.0</td>\n",
       "      <td>10.0</td>\n",
       "    </tr>\n",
       "    <tr>\n",
       "      <th>25</th>\n",
       "      <td>3.0</td>\n",
       "      <td>856.000000</td>\n",
       "      <td>0.208984</td>\n",
       "      <td>12.056623</td>\n",
       "      <td>0.0</td>\n",
       "      <td>0.0</td>\n",
       "      <td>10.0</td>\n",
       "    </tr>\n",
       "    <tr>\n",
       "      <th>26</th>\n",
       "      <td>3.0</td>\n",
       "      <td>856.000000</td>\n",
       "      <td>0.208984</td>\n",
       "      <td>12.056623</td>\n",
       "      <td>0.0</td>\n",
       "      <td>0.0</td>\n",
       "      <td>10.0</td>\n",
       "    </tr>\n",
       "    <tr>\n",
       "      <th>27</th>\n",
       "      <td>3.0</td>\n",
       "      <td>856.000000</td>\n",
       "      <td>0.208984</td>\n",
       "      <td>12.056623</td>\n",
       "      <td>0.0</td>\n",
       "      <td>0.0</td>\n",
       "      <td>9.0</td>\n",
       "    </tr>\n",
       "    <tr>\n",
       "      <th>28</th>\n",
       "      <td>3.0</td>\n",
       "      <td>856.000000</td>\n",
       "      <td>0.208984</td>\n",
       "      <td>12.056623</td>\n",
       "      <td>0.0</td>\n",
       "      <td>0.0</td>\n",
       "      <td>9.0</td>\n",
       "    </tr>\n",
       "    <tr>\n",
       "      <th>29</th>\n",
       "      <td>3.0</td>\n",
       "      <td>856.000000</td>\n",
       "      <td>0.208984</td>\n",
       "      <td>12.056623</td>\n",
       "      <td>0.0</td>\n",
       "      <td>0.0</td>\n",
       "      <td>9.0</td>\n",
       "    </tr>\n",
       "    <tr>\n",
       "      <th>...</th>\n",
       "      <td>...</td>\n",
       "      <td>...</td>\n",
       "      <td>...</td>\n",
       "      <td>...</td>\n",
       "      <td>...</td>\n",
       "      <td>...</td>\n",
       "      <td>...</td>\n",
       "    </tr>\n",
       "    <tr>\n",
       "      <th>9593</th>\n",
       "      <td>781.0</td>\n",
       "      <td>1624.435547</td>\n",
       "      <td>0.208984</td>\n",
       "      <td>12.645465</td>\n",
       "      <td>0.0</td>\n",
       "      <td>0.0</td>\n",
       "      <td>14.0</td>\n",
       "    </tr>\n",
       "    <tr>\n",
       "      <th>9594</th>\n",
       "      <td>781.0</td>\n",
       "      <td>1624.435547</td>\n",
       "      <td>0.208984</td>\n",
       "      <td>12.645465</td>\n",
       "      <td>0.0</td>\n",
       "      <td>0.0</td>\n",
       "      <td>14.0</td>\n",
       "    </tr>\n",
       "    <tr>\n",
       "      <th>9595</th>\n",
       "      <td>782.0</td>\n",
       "      <td>1624.435547</td>\n",
       "      <td>0.208984</td>\n",
       "      <td>12.646996</td>\n",
       "      <td>0.0</td>\n",
       "      <td>0.0</td>\n",
       "      <td>17.0</td>\n",
       "    </tr>\n",
       "    <tr>\n",
       "      <th>9596</th>\n",
       "      <td>782.0</td>\n",
       "      <td>1624.435547</td>\n",
       "      <td>0.208984</td>\n",
       "      <td>12.646996</td>\n",
       "      <td>0.0</td>\n",
       "      <td>0.0</td>\n",
       "      <td>17.0</td>\n",
       "    </tr>\n",
       "    <tr>\n",
       "      <th>9597</th>\n",
       "      <td>782.0</td>\n",
       "      <td>1624.435547</td>\n",
       "      <td>0.208984</td>\n",
       "      <td>12.646996</td>\n",
       "      <td>0.0</td>\n",
       "      <td>0.0</td>\n",
       "      <td>14.0</td>\n",
       "    </tr>\n",
       "    <tr>\n",
       "      <th>9598</th>\n",
       "      <td>782.0</td>\n",
       "      <td>1624.435547</td>\n",
       "      <td>0.208984</td>\n",
       "      <td>12.646996</td>\n",
       "      <td>0.0</td>\n",
       "      <td>0.0</td>\n",
       "      <td>14.0</td>\n",
       "    </tr>\n",
       "    <tr>\n",
       "      <th>9599</th>\n",
       "      <td>782.0</td>\n",
       "      <td>1624.435547</td>\n",
       "      <td>0.208984</td>\n",
       "      <td>12.646996</td>\n",
       "      <td>0.0</td>\n",
       "      <td>0.0</td>\n",
       "      <td>14.0</td>\n",
       "    </tr>\n",
       "    <tr>\n",
       "      <th>9600</th>\n",
       "      <td>783.0</td>\n",
       "      <td>1624.435547</td>\n",
       "      <td>0.208984</td>\n",
       "      <td>12.819897</td>\n",
       "      <td>0.0</td>\n",
       "      <td>0.0</td>\n",
       "      <td>17.0</td>\n",
       "    </tr>\n",
       "    <tr>\n",
       "      <th>9601</th>\n",
       "      <td>783.0</td>\n",
       "      <td>1624.435547</td>\n",
       "      <td>0.208984</td>\n",
       "      <td>12.819897</td>\n",
       "      <td>0.0</td>\n",
       "      <td>0.0</td>\n",
       "      <td>17.0</td>\n",
       "    </tr>\n",
       "    <tr>\n",
       "      <th>9602</th>\n",
       "      <td>783.0</td>\n",
       "      <td>1624.435547</td>\n",
       "      <td>0.208984</td>\n",
       "      <td>12.819897</td>\n",
       "      <td>0.0</td>\n",
       "      <td>0.0</td>\n",
       "      <td>14.0</td>\n",
       "    </tr>\n",
       "    <tr>\n",
       "      <th>9603</th>\n",
       "      <td>783.0</td>\n",
       "      <td>1624.435547</td>\n",
       "      <td>0.208984</td>\n",
       "      <td>12.819897</td>\n",
       "      <td>0.0</td>\n",
       "      <td>0.0</td>\n",
       "      <td>14.0</td>\n",
       "    </tr>\n",
       "    <tr>\n",
       "      <th>9604</th>\n",
       "      <td>783.0</td>\n",
       "      <td>1624.435547</td>\n",
       "      <td>0.208984</td>\n",
       "      <td>12.819897</td>\n",
       "      <td>0.0</td>\n",
       "      <td>0.0</td>\n",
       "      <td>14.0</td>\n",
       "    </tr>\n",
       "    <tr>\n",
       "      <th>9605</th>\n",
       "      <td>784.0</td>\n",
       "      <td>1624.435547</td>\n",
       "      <td>0.208984</td>\n",
       "      <td>12.909793</td>\n",
       "      <td>0.0</td>\n",
       "      <td>0.0</td>\n",
       "      <td>17.0</td>\n",
       "    </tr>\n",
       "    <tr>\n",
       "      <th>9606</th>\n",
       "      <td>784.0</td>\n",
       "      <td>1624.435547</td>\n",
       "      <td>0.208984</td>\n",
       "      <td>12.909793</td>\n",
       "      <td>0.0</td>\n",
       "      <td>0.0</td>\n",
       "      <td>17.0</td>\n",
       "    </tr>\n",
       "    <tr>\n",
       "      <th>9607</th>\n",
       "      <td>784.0</td>\n",
       "      <td>1624.435547</td>\n",
       "      <td>0.208984</td>\n",
       "      <td>12.909793</td>\n",
       "      <td>0.0</td>\n",
       "      <td>0.0</td>\n",
       "      <td>14.0</td>\n",
       "    </tr>\n",
       "    <tr>\n",
       "      <th>9608</th>\n",
       "      <td>784.0</td>\n",
       "      <td>1624.435547</td>\n",
       "      <td>0.208984</td>\n",
       "      <td>12.909793</td>\n",
       "      <td>0.0</td>\n",
       "      <td>0.0</td>\n",
       "      <td>14.0</td>\n",
       "    </tr>\n",
       "    <tr>\n",
       "      <th>9609</th>\n",
       "      <td>784.0</td>\n",
       "      <td>1624.435547</td>\n",
       "      <td>0.208984</td>\n",
       "      <td>12.909793</td>\n",
       "      <td>0.0</td>\n",
       "      <td>0.0</td>\n",
       "      <td>14.0</td>\n",
       "    </tr>\n",
       "    <tr>\n",
       "      <th>9610</th>\n",
       "      <td>785.0</td>\n",
       "      <td>1624.435547</td>\n",
       "      <td>0.208984</td>\n",
       "      <td>12.999842</td>\n",
       "      <td>0.0</td>\n",
       "      <td>0.0</td>\n",
       "      <td>17.0</td>\n",
       "    </tr>\n",
       "    <tr>\n",
       "      <th>9611</th>\n",
       "      <td>785.0</td>\n",
       "      <td>1624.435547</td>\n",
       "      <td>0.208984</td>\n",
       "      <td>12.999842</td>\n",
       "      <td>0.0</td>\n",
       "      <td>0.0</td>\n",
       "      <td>17.0</td>\n",
       "    </tr>\n",
       "    <tr>\n",
       "      <th>9612</th>\n",
       "      <td>785.0</td>\n",
       "      <td>1624.435547</td>\n",
       "      <td>0.208984</td>\n",
       "      <td>12.999842</td>\n",
       "      <td>0.0</td>\n",
       "      <td>0.0</td>\n",
       "      <td>14.0</td>\n",
       "    </tr>\n",
       "    <tr>\n",
       "      <th>9613</th>\n",
       "      <td>785.0</td>\n",
       "      <td>1624.435547</td>\n",
       "      <td>0.208984</td>\n",
       "      <td>12.999842</td>\n",
       "      <td>0.0</td>\n",
       "      <td>0.0</td>\n",
       "      <td>14.0</td>\n",
       "    </tr>\n",
       "    <tr>\n",
       "      <th>9614</th>\n",
       "      <td>785.0</td>\n",
       "      <td>1624.435547</td>\n",
       "      <td>0.208984</td>\n",
       "      <td>12.999842</td>\n",
       "      <td>0.0</td>\n",
       "      <td>0.0</td>\n",
       "      <td>14.0</td>\n",
       "    </tr>\n",
       "    <tr>\n",
       "      <th>9615</th>\n",
       "      <td>786.0</td>\n",
       "      <td>1624.435547</td>\n",
       "      <td>0.208984</td>\n",
       "      <td>13.003211</td>\n",
       "      <td>0.0</td>\n",
       "      <td>0.0</td>\n",
       "      <td>17.0</td>\n",
       "    </tr>\n",
       "    <tr>\n",
       "      <th>9616</th>\n",
       "      <td>786.0</td>\n",
       "      <td>1624.435547</td>\n",
       "      <td>0.208984</td>\n",
       "      <td>13.003211</td>\n",
       "      <td>0.0</td>\n",
       "      <td>0.0</td>\n",
       "      <td>17.0</td>\n",
       "    </tr>\n",
       "    <tr>\n",
       "      <th>9617</th>\n",
       "      <td>786.0</td>\n",
       "      <td>1624.435547</td>\n",
       "      <td>0.208984</td>\n",
       "      <td>13.003211</td>\n",
       "      <td>0.0</td>\n",
       "      <td>0.0</td>\n",
       "      <td>14.0</td>\n",
       "    </tr>\n",
       "    <tr>\n",
       "      <th>9618</th>\n",
       "      <td>786.0</td>\n",
       "      <td>1624.435547</td>\n",
       "      <td>0.208984</td>\n",
       "      <td>13.003211</td>\n",
       "      <td>0.0</td>\n",
       "      <td>0.0</td>\n",
       "      <td>14.0</td>\n",
       "    </tr>\n",
       "    <tr>\n",
       "      <th>9619</th>\n",
       "      <td>786.0</td>\n",
       "      <td>1624.435547</td>\n",
       "      <td>0.208984</td>\n",
       "      <td>13.003211</td>\n",
       "      <td>0.0</td>\n",
       "      <td>0.0</td>\n",
       "      <td>14.0</td>\n",
       "    </tr>\n",
       "    <tr>\n",
       "      <th>9620</th>\n",
       "      <td>787.0</td>\n",
       "      <td>1626.316406</td>\n",
       "      <td>0.208984</td>\n",
       "      <td>12.134115</td>\n",
       "      <td>0.0</td>\n",
       "      <td>0.0</td>\n",
       "      <td>14.0</td>\n",
       "    </tr>\n",
       "    <tr>\n",
       "      <th>9621</th>\n",
       "      <td>787.0</td>\n",
       "      <td>1626.316406</td>\n",
       "      <td>0.208984</td>\n",
       "      <td>12.134115</td>\n",
       "      <td>0.0</td>\n",
       "      <td>0.0</td>\n",
       "      <td>14.0</td>\n",
       "    </tr>\n",
       "    <tr>\n",
       "      <th>9622</th>\n",
       "      <td>787.0</td>\n",
       "      <td>1626.316406</td>\n",
       "      <td>0.208984</td>\n",
       "      <td>12.134115</td>\n",
       "      <td>0.0</td>\n",
       "      <td>0.0</td>\n",
       "      <td>14.0</td>\n",
       "    </tr>\n",
       "  </tbody>\n",
       "</table>\n",
       "<p>9623 rows × 7 columns</p>\n",
       "</div>"
      ],
      "text/plain": [
       "      event       c_freq        bw    t_start  duration  culprit  band\n",
       "0       1.0   856.000000  0.208984  12.027526       0.0      0.0  10.0\n",
       "1       1.0   856.000000  0.208984  12.027526       0.0      0.0  10.0\n",
       "2       1.0   856.000000  0.208984  12.027526       0.0      0.0  10.0\n",
       "3       1.0   856.000000  0.208984  12.027526       0.0      0.0  10.0\n",
       "4       1.0   856.000000  0.208984  12.027526       0.0      0.0  10.0\n",
       "5       1.0   856.000000  0.208984  12.027526       0.0      0.0  10.0\n",
       "6       1.0   856.000000  0.208984  12.027526       0.0      0.0  10.0\n",
       "7       1.0   856.000000  0.208984  12.027526       0.0      0.0   9.0\n",
       "8       1.0   856.000000  0.208984  12.027526       0.0      0.0   9.0\n",
       "9       1.0   856.000000  0.208984  12.027526       0.0      0.0   9.0\n",
       "10      2.0   856.000000  0.208984  12.036715       0.0      0.0  10.0\n",
       "11      2.0   856.000000  0.208984  12.036715       0.0      0.0  10.0\n",
       "12      2.0   856.000000  0.208984  12.036715       0.0      0.0  10.0\n",
       "13      2.0   856.000000  0.208984  12.036715       0.0      0.0  10.0\n",
       "14      2.0   856.000000  0.208984  12.036715       0.0      0.0  10.0\n",
       "15      2.0   856.000000  0.208984  12.036715       0.0      0.0  10.0\n",
       "16      2.0   856.000000  0.208984  12.036715       0.0      0.0  10.0\n",
       "17      2.0   856.000000  0.208984  12.036715       0.0      0.0   9.0\n",
       "18      2.0   856.000000  0.208984  12.036715       0.0      0.0   9.0\n",
       "19      2.0   856.000000  0.208984  12.036715       0.0      0.0   9.0\n",
       "20      3.0   856.000000  0.208984  12.056623       0.0      0.0  10.0\n",
       "21      3.0   856.000000  0.208984  12.056623       0.0      0.0  10.0\n",
       "22      3.0   856.000000  0.208984  12.056623       0.0      0.0  10.0\n",
       "23      3.0   856.000000  0.208984  12.056623       0.0      0.0  10.0\n",
       "24      3.0   856.000000  0.208984  12.056623       0.0      0.0  10.0\n",
       "25      3.0   856.000000  0.208984  12.056623       0.0      0.0  10.0\n",
       "26      3.0   856.000000  0.208984  12.056623       0.0      0.0  10.0\n",
       "27      3.0   856.000000  0.208984  12.056623       0.0      0.0   9.0\n",
       "28      3.0   856.000000  0.208984  12.056623       0.0      0.0   9.0\n",
       "29      3.0   856.000000  0.208984  12.056623       0.0      0.0   9.0\n",
       "...     ...          ...       ...        ...       ...      ...   ...\n",
       "9593  781.0  1624.435547  0.208984  12.645465       0.0      0.0  14.0\n",
       "9594  781.0  1624.435547  0.208984  12.645465       0.0      0.0  14.0\n",
       "9595  782.0  1624.435547  0.208984  12.646996       0.0      0.0  17.0\n",
       "9596  782.0  1624.435547  0.208984  12.646996       0.0      0.0  17.0\n",
       "9597  782.0  1624.435547  0.208984  12.646996       0.0      0.0  14.0\n",
       "9598  782.0  1624.435547  0.208984  12.646996       0.0      0.0  14.0\n",
       "9599  782.0  1624.435547  0.208984  12.646996       0.0      0.0  14.0\n",
       "9600  783.0  1624.435547  0.208984  12.819897       0.0      0.0  17.0\n",
       "9601  783.0  1624.435547  0.208984  12.819897       0.0      0.0  17.0\n",
       "9602  783.0  1624.435547  0.208984  12.819897       0.0      0.0  14.0\n",
       "9603  783.0  1624.435547  0.208984  12.819897       0.0      0.0  14.0\n",
       "9604  783.0  1624.435547  0.208984  12.819897       0.0      0.0  14.0\n",
       "9605  784.0  1624.435547  0.208984  12.909793       0.0      0.0  17.0\n",
       "9606  784.0  1624.435547  0.208984  12.909793       0.0      0.0  17.0\n",
       "9607  784.0  1624.435547  0.208984  12.909793       0.0      0.0  14.0\n",
       "9608  784.0  1624.435547  0.208984  12.909793       0.0      0.0  14.0\n",
       "9609  784.0  1624.435547  0.208984  12.909793       0.0      0.0  14.0\n",
       "9610  785.0  1624.435547  0.208984  12.999842       0.0      0.0  17.0\n",
       "9611  785.0  1624.435547  0.208984  12.999842       0.0      0.0  17.0\n",
       "9612  785.0  1624.435547  0.208984  12.999842       0.0      0.0  14.0\n",
       "9613  785.0  1624.435547  0.208984  12.999842       0.0      0.0  14.0\n",
       "9614  785.0  1624.435547  0.208984  12.999842       0.0      0.0  14.0\n",
       "9615  786.0  1624.435547  0.208984  13.003211       0.0      0.0  17.0\n",
       "9616  786.0  1624.435547  0.208984  13.003211       0.0      0.0  17.0\n",
       "9617  786.0  1624.435547  0.208984  13.003211       0.0      0.0  14.0\n",
       "9618  786.0  1624.435547  0.208984  13.003211       0.0      0.0  14.0\n",
       "9619  786.0  1624.435547  0.208984  13.003211       0.0      0.0  14.0\n",
       "9620  787.0  1626.316406  0.208984  12.134115       0.0      0.0  14.0\n",
       "9621  787.0  1626.316406  0.208984  12.134115       0.0      0.0  14.0\n",
       "9622  787.0  1626.316406  0.208984  12.134115       0.0      0.0  14.0\n",
       "\n",
       "[9623 rows x 7 columns]"
      ]
     },
     "execution_count": 86,
     "metadata": {},
     "output_type": "execute_result"
    }
   ],
   "source": [
    "training_set"
   ]
  },
  {
   "cell_type": "code",
   "execution_count": null,
   "metadata": {
    "collapsed": true
   },
   "outputs": [],
   "source": []
  }
 ],
 "metadata": {
  "anaconda-cloud": {},
  "kernelspec": {
   "display_name": "Python [conda env:sciimage]",
   "language": "python",
   "name": "conda-env-sciimage-py"
  },
  "language_info": {
   "codemirror_mode": {
    "name": "ipython",
    "version": 2
   },
   "file_extension": ".py",
   "mimetype": "text/x-python",
   "name": "python",
   "nbconvert_exporter": "python",
   "pygments_lexer": "ipython2",
   "version": "2.7.13"
  }
 },
 "nbformat": 4,
 "nbformat_minor": 2
}
